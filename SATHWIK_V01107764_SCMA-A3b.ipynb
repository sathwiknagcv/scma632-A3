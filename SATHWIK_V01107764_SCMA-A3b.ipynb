{
 "cells": [
  {
   "cell_type": "code",
   "execution_count": 4,
   "id": "03aaade1-afa0-47bc-a0f9-3900d03ac769",
   "metadata": {},
   "outputs": [
    {
     "name": "stdout",
     "output_type": "stream",
     "text": [
      "   slno       grp  Round_Centre  FSU_number  Round  Schedule_Number  Sample  \\\n",
      "0     1  4.10E+31             1       41000     68               10       1   \n",
      "1     2  4.10E+31             1       41000     68               10       1   \n",
      "2     3  4.10E+31             1       41000     68               10       1   \n",
      "3     4  4.10E+31             1       41000     68               10       1   \n",
      "4     5  4.10E+31             1       41000     68               10       1   \n",
      "\n",
      "   Sector  state  State_Region  ...  pickle_v  sauce_jam_v  Othrprocessed_v  \\\n",
      "0       2     24           242  ...       0.0          0.0              0.0   \n",
      "1       2     24           242  ...       0.0          0.0              0.0   \n",
      "2       2     24           242  ...       0.0          0.0              0.0   \n",
      "3       2     24           242  ...       0.0          0.0              0.0   \n",
      "4       2     24           242  ...       0.0          0.0              0.0   \n",
      "\n",
      "   Beveragestotal_v  foodtotal_v  foodtotal_q  state_1  Region  \\\n",
      "0          0.000000  1141.492400    30.942394      GUJ       2   \n",
      "1         17.500000  1244.553500    29.286153      GUJ       2   \n",
      "2          0.000000  1050.315400    31.527046      GUJ       2   \n",
      "3         33.333333  1142.591667    27.834607      GUJ       2   \n",
      "4         75.000000   945.249500    27.600713      GUJ       2   \n",
      "\n",
      "   fruits_df_tt_v  fv_tot  \n",
      "0       12.000000  154.18  \n",
      "1      333.000000  484.95  \n",
      "2       35.000000  214.84  \n",
      "3      168.333333  302.30  \n",
      "4       15.000000  148.00  \n",
      "\n",
      "[5 rows x 384 columns]\n"
     ]
    }
   ],
   "source": [
    "import pandas as pd\n",
    "import numpy as np\n",
    "import statsmodels.api as sm\n",
    "from statsmodels.discrete.discrete_model import Probit\n",
    "\n",
    "\n",
    "# Load the dataset\n",
    "file_path = 'C:\\\\Users\\\\Admin\\\\Downloads\\\\Bootcamp Assignement\\\\NSSO68.csv'\n",
    "data = pd.read_csv(file_path, low_memory=False)\n",
    "\n",
    "\n",
    "# Display the first few rows of the dataset to understand its structure\n",
    "print(data.head())\n",
    "\n",
    "\n",
    "# Assuming the dataset has a column 'NonVegetarian' which is the target variable\n",
    "# and other relevant columns are used as features"
   ]
  },
  {
   "cell_type": "code",
   "execution_count": 5,
   "id": "5ccad13c-9a9d-4468-b1e0-3c4ac0798a8b",
   "metadata": {},
   "outputs": [
    {
     "name": "stdout",
     "output_type": "stream",
     "text": [
      "0\n",
      "0\n",
      "2\n",
      "7\n"
     ]
    }
   ],
   "source": [
    "# Subset data for state 'KA'\n",
    "subset_data = data[['chicken_q', 'Age', 'Marital_Status', 'Education']]\n",
    "\n",
    "# Check for missing values\n",
    "print(subset_data['chicken_q'].isna().sum())\n",
    "print(subset_data['Age'].isna().sum())\n",
    "print(subset_data['Marital_Status'].isna().sum())\n",
    "print(subset_data['Education'].isna().sum())"
   ]
  },
  {
   "cell_type": "code",
   "execution_count": 6,
   "id": "97811113-fcb0-445f-87e5-b5c2a6e52782",
   "metadata": {},
   "outputs": [
    {
     "name": "stderr",
     "output_type": "stream",
     "text": [
      "C:\\Users\\Admin\\AppData\\Local\\Temp\\ipykernel_102860\\3479516528.py:4: SettingWithCopyWarning: \n",
      "A value is trying to be set on a copy of a slice from a DataFrame\n",
      "\n",
      "See the caveats in the documentation: https://pandas.pydata.org/pandas-docs/stable/user_guide/indexing.html#returning-a-view-versus-a-copy\n",
      "  df[col].fillna(df[col].mean(), inplace=True)\n"
     ]
    }
   ],
   "source": [
    "# Function to impute missing values with mean\n",
    "def impute_with_mean(df, columns):\n",
    "    for col in columns:\n",
    "        df[col].fillna(df[col].mean(), inplace=True)\n",
    "    return df\n",
    "\n",
    "# Columns to impute\n",
    "columns_to_impute = ['Education', 'chicken_q', 'Age', 'Marital_Status']\n",
    "\n",
    "# Impute missing values with mean in the subset data\n",
    "subset_data = impute_with_mean(subset_data, columns_to_impute)\n",
    "\n",
    "# Ensure no infinite values\n",
    "subset_data = subset_data.replace([np.inf, -np.inf], np.nan)\n",
    "\n",
    "# Drop rows with any remaining NaN values\n",
    "subset_data.dropna(inplace=True)"
   ]
  },
  {
   "cell_type": "code",
   "execution_count": 7,
   "id": "d2079093-03d3-4937-b932-5935532031dc",
   "metadata": {},
   "outputs": [
    {
     "name": "stdout",
     "output_type": "stream",
     "text": [
      "0\n",
      "0\n",
      "0\n",
      "0\n"
     ]
    }
   ],
   "source": [
    "# Check for missing values\n",
    "print(subset_data['chicken_q'].isna().sum())\n",
    "print(subset_data['Age'].isna().sum())\n",
    "print(subset_data['Marital_Status'].isna().sum())\n",
    "print(subset_data['Education'].isna().sum())"
   ]
  },
  {
   "cell_type": "code",
   "execution_count": 8,
   "id": "1a77938a-6ef9-428b-9720-7d2d33fcd5fa",
   "metadata": {},
   "outputs": [
    {
     "name": "stdout",
     "output_type": "stream",
     "text": [
      "Optimization terminated successfully.\n",
      "         Current function value: 0.115600\n",
      "         Iterations 7\n",
      "                          Probit Regression Results                           \n",
      "==============================================================================\n",
      "Dep. Variable:              chicken_q   No. Observations:               101662\n",
      "Model:                         Probit   Df Residuals:                   101658\n",
      "Method:                           MLE   Df Model:                            3\n",
      "Date:                Mon, 01 Jul 2024   Pseudo R-squ.:                 0.01405\n",
      "Time:                        22:53:02   Log-Likelihood:                -11752.\n",
      "converged:                       True   LL-Null:                       -11920.\n",
      "Covariance Type:            nonrobust   LLR p-value:                 2.615e-72\n",
      "==================================================================================\n",
      "                     coef    std err          z      P>|z|      [0.025      0.975]\n",
      "----------------------------------------------------------------------------------\n",
      "const             -2.2494      0.054    -41.604      0.000      -2.355      -2.143\n",
      "Age                0.0015      0.001      2.205      0.027       0.000       0.003\n",
      "Marital_Status    -0.0337      0.023     -1.483      0.138      -0.078       0.011\n",
      "Education          0.0420      0.002     17.326      0.000       0.037       0.047\n",
      "==================================================================================\n",
      "   slno       grp  Round_Centre  FSU_number  Round  Schedule_Number  Sample  \\\n",
      "0     1  4.10E+31             1       41000     68               10       1   \n",
      "1     2  4.10E+31             1       41000     68               10       1   \n",
      "2     3  4.10E+31             1       41000     68               10       1   \n",
      "3     4  4.10E+31             1       41000     68               10       1   \n",
      "4     5  4.10E+31             1       41000     68               10       1   \n",
      "\n",
      "   Sector  state  State_Region  ...  pickle_v  sauce_jam_v  Othrprocessed_v  \\\n",
      "0       2     24           242  ...       0.0          0.0              0.0   \n",
      "1       2     24           242  ...       0.0          0.0              0.0   \n",
      "2       2     24           242  ...       0.0          0.0              0.0   \n",
      "3       2     24           242  ...       0.0          0.0              0.0   \n",
      "4       2     24           242  ...       0.0          0.0              0.0   \n",
      "\n",
      "   Beveragestotal_v  foodtotal_v  foodtotal_q  state_1  Region  \\\n",
      "0          0.000000  1141.492400    30.942394      GUJ       2   \n",
      "1         17.500000  1244.553500    29.286153      GUJ       2   \n",
      "2          0.000000  1050.315400    31.527046      GUJ       2   \n",
      "3         33.333333  1142.591667    27.834607      GUJ       2   \n",
      "4         75.000000   945.249500    27.600713      GUJ       2   \n",
      "\n",
      "   fruits_df_tt_v  fv_tot  \n",
      "0       12.000000  154.18  \n",
      "1      333.000000  484.95  \n",
      "2       35.000000  214.84  \n",
      "3      168.333333  302.30  \n",
      "4       15.000000  148.00  \n",
      "\n",
      "[5 rows x 384 columns]\n"
     ]
    }
   ],
   "source": [
    "import warnings\n",
    "from statsmodels.tools.sm_exceptions import PerfectSeparationWarning\n",
    "from statsmodels.tools.sm_exceptions import ConvergenceWarning\n",
    "\n",
    "# Suppress PerfectSeparationWarning\n",
    "warnings.filterwarnings('ignore', category=PerfectSeparationWarning)\n",
    "\n",
    "# Suppress ConvergenceWarning\n",
    "warnings.filterwarnings('ignore', category=ConvergenceWarning)\n",
    "\n",
    "# Convert the target variable to binary based on the specified condition\n",
    "subset_data['chicken_q'] = subset_data['chicken_q'].apply(lambda x: 0 if x < 1 else 1)\n",
    "\n",
    "# Define the independent variables (example columns, update based on your dataset)\n",
    "# Assuming 'Age', 'Income', 'Education' are some of the features in the dataset\n",
    "independent_vars = ['Age', 'Marital_Status', 'Education']\n",
    "\n",
    "\n",
    "# Add a constant term for the intercept\n",
    "X = sm.add_constant(subset_data[independent_vars])\n",
    "\n",
    "\n",
    "# Define the dependent variable\n",
    "y = subset_data['chicken_q']\n",
    "\n",
    "\n",
    "# Fit the probit regression model\n",
    "probit_model = Probit(y, X).fit()\n",
    "\n",
    "\n",
    "# Print the summary of the model\n",
    "print(probit_model.summary())\n",
    "\n",
    "\n",
    "# Make predictions\n",
    "subset_data['predicted'] = probit_model.predict(X)\n",
    "\n",
    "\n",
    "# Display the first few rows with the predictions\n",
    "print(data.head())\n"
   ]
  }
 ],
 "metadata": {
  "kernelspec": {
   "display_name": "Python 3 (ipykernel)",
   "language": "python",
   "name": "python3"
  },
  "language_info": {
   "codemirror_mode": {
    "name": "ipython",
    "version": 3
   },
   "file_extension": ".py",
   "mimetype": "text/x-python",
   "name": "python",
   "nbconvert_exporter": "python",
   "pygments_lexer": "ipython3",
   "version": "3.11.5"
  }
 },
 "nbformat": 4,
 "nbformat_minor": 5
}
