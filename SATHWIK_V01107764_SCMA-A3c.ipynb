{
 "cells": [
  {
   "cell_type": "code",
   "execution_count": 4,
   "id": "e12edd81-a72b-4ae9-af82-975ac4125f41",
   "metadata": {
    "scrolled": true
   },
   "outputs": [
    {
     "name": "stdout",
     "output_type": "stream",
     "text": [
      "0\n",
      "10\n",
      "0\n",
      "3\n",
      "14\n",
      "12\n"
     ]
    }
   ],
   "source": [
    "import pandas as pd\n",
    "import numpy as np\n",
    "import statsmodels.api as sm\n",
    "# Load the data\n",
    "data = pd.read_csv('C:\\\\Users\\\\Admin\\\\Downloads\\\\Bootcamp Assignement\\\\NSSO68.csv', low_memory=False)\n",
    "\n",
    "# Subset data for state 'KA'\n",
    "df = data[['MPCE_URP','Whether_owns_any_land', 'hhdsz', 'Religion','Social_Group','Regular_salary_earner']]\n",
    "\n",
    "# Check for missing values\n",
    "print(df['MPCE_URP'].isna().sum())\n",
    "print(df['Whether_owns_any_land'].isna().sum())\n",
    "print(df['hhdsz'].isna().sum())\n",
    "print(df['Religion'].isna().sum())\n",
    "print(df['Social_Group'].isna().sum())\n",
    "print(df['Regular_salary_earner'].isna().sum())"
   ]
  },
  {
   "cell_type": "code",
   "execution_count": 5,
   "id": "37b5a275-a86e-42fd-ab9d-01d9712fad58",
   "metadata": {},
   "outputs": [],
   "source": [
    "# Columns to impute\n",
    "columns_to_impute = ['Whether_owns_any_land','Religion','Social_Group','Regular_salary_earner']"
   ]
  },
  {
   "cell_type": "code",
   "execution_count": 6,
   "id": "8b4bc3d2-6d00-452f-8a10-738f3341b9ea",
   "metadata": {},
   "outputs": [
    {
     "name": "stderr",
     "output_type": "stream",
     "text": [
      "C:\\Users\\Admin\\AppData\\Local\\Temp\\ipykernel_15756\\1461368480.py:2: SettingWithCopyWarning: \n",
      "A value is trying to be set on a copy of a slice from a DataFrame\n",
      "\n",
      "See the caveats in the documentation: https://pandas.pydata.org/pandas-docs/stable/user_guide/indexing.html#returning-a-view-versus-a-copy\n",
      "  df.dropna(inplace=True)\n"
     ]
    }
   ],
   "source": [
    "# Drop rows with any remaining NaN values\n",
    "df.dropna(inplace=True)"
   ]
  },
  {
   "cell_type": "code",
   "execution_count": 7,
   "id": "feeeeda8-58cd-4102-a3e9-ec4531444ddd",
   "metadata": {},
   "outputs": [
    {
     "name": "stdout",
     "output_type": "stream",
     "text": [
      "0\n",
      "0\n",
      "0\n",
      "0\n",
      "0\n",
      "0\n"
     ]
    }
   ],
   "source": [
    "# Check for missing values\n",
    "print(df['MPCE_URP'].isna().sum())\n",
    "print(df['Whether_owns_any_land'].isna().sum())\n",
    "print(df['hhdsz'].isna().sum())\n",
    "print(df['Religion'].isna().sum())\n",
    "print(df['Social_Group'].isna().sum())\n",
    "print(df['Regular_salary_earner'].isna().sum())"
   ]
  },
  {
   "cell_type": "code",
   "execution_count": 8,
   "id": "953ab0a3-2ebb-4bc7-87cd-e34913e518c5",
   "metadata": {},
   "outputs": [
    {
     "name": "stderr",
     "output_type": "stream",
     "text": [
      "C:\\Users\\Admin\\AppData\\Local\\Temp\\ipykernel_15756\\2092469563.py:2: SettingWithCopyWarning: \n",
      "A value is trying to be set on a copy of a slice from a DataFrame.\n",
      "Try using .loc[row_indexer,col_indexer] = value instead\n",
      "\n",
      "See the caveats in the documentation: https://pandas.pydata.org/pandas-docs/stable/user_guide/indexing.html#returning-a-view-versus-a-copy\n",
      "  df['MPCE_URP'] = df['MPCE_URP'].apply(lambda x: 0 if x < 380 else 1)\n"
     ]
    }
   ],
   "source": [
    "# Convert the target variable to binary based on the specified condition\n",
    "df['MPCE_URP'] = df['MPCE_URP'].apply(lambda x: 0 if x < 380 else 1)"
   ]
  },
  {
   "cell_type": "code",
   "execution_count": 9,
   "id": "b54ffe09-47c3-413d-87a2-086f3beab223",
   "metadata": {},
   "outputs": [
    {
     "name": "stderr",
     "output_type": "stream",
     "text": [
      "C:\\Users\\Admin\\AppData\\Local\\Temp\\ipykernel_15756\\3426349089.py:33: RuntimeWarning: invalid value encountered in log\n",
      "  ll[cens] = np.log(\n",
      "C:\\Users\\Admin\\AppData\\Local\\Temp\\ipykernel_15756\\3426349089.py:38: RuntimeWarning: invalid value encountered in log\n",
      "  ll[uncens] = np.log(\n",
      "C:\\Users\\Admin\\AppData\\Local\\Temp\\ipykernel_15756\\3426349089.py:38: RuntimeWarning: divide by zero encountered in log\n",
      "  ll[uncens] = np.log(\n"
     ]
    },
    {
     "name": "stdout",
     "output_type": "stream",
     "text": [
      "Optimization terminated successfully.\n",
      "         Current function value: -0.003281\n",
      "         Iterations: 223\n",
      "         Function evaluations: 362\n",
      "                                Tobit Results                                 \n",
      "==============================================================================\n",
      "Dep. Variable:               MPCE_URP   Log-Likelihood:                 333.38\n",
      "Model:                          Tobit   AIC:                            -652.8\n",
      "Method:            Maximum Likelihood   BIC:                            -586.1\n",
      "Date:                Mon, 01 Jul 2024                                         \n",
      "Time:                        23:05:37                                         \n",
      "No. Observations:              101624                                         \n",
      "Df Residuals:                  101618                                         \n",
      "Df Model:                           5                                         \n",
      "=========================================================================================\n",
      "                            coef    std err          z      P>|z|      [0.025      0.975]\n",
      "-----------------------------------------------------------------------------------------\n",
      "const                    -0.0023      0.057     -0.041      0.967      -0.114       0.110\n",
      "Whether_owns_any_land    -0.0016      0.018     -0.088      0.930      -0.036       0.033\n",
      "hhdsz                    -0.0016      0.002     -0.862      0.389      -0.005       0.002\n",
      "Religion                  0.0026      0.004      0.688      0.491      -0.005       0.010\n",
      "Social_Group              0.0050      0.002      2.204      0.027       0.001       0.009\n",
      "Regular_salary_earner     0.0018      0.024      0.072      0.943      -0.046       0.050\n",
      "par0                      0.0803      0.004     20.898      0.000       0.073       0.088\n",
      "=========================================================================================\n"
     ]
    },
    {
     "name": "stderr",
     "output_type": "stream",
     "text": [
      "C:\\Users\\Admin\\anaconda3\\Lib\\site-packages\\statsmodels\\base\\model.py:2742: UserWarning: df_model + k_constant + k_extra differs from k_params\n",
      "  warnings.warn(\"df_model + k_constant + k_extra \"\n",
      "C:\\Users\\Admin\\anaconda3\\Lib\\site-packages\\statsmodels\\base\\model.py:2746: UserWarning: df_resid differs from nobs - k_params\n",
      "  warnings.warn(\"df_resid differs from nobs - k_params\")\n"
     ]
    }
   ],
   "source": [
    "import numpy as np\n",
    "import pandas as pd\n",
    "import statsmodels.api as sm\n",
    "from statsmodels.base.model import GenericLikelihoodModel\n",
    "\n",
    "# Define the independent variables (X) and the dependent variable (y)\n",
    "X = df[['Whether_owns_any_land', 'hhdsz', 'Religion','Social_Group','Regular_salary_earner']]  # replace with your actual column names\n",
    "y = df['MPCE_URP']  # replace with your actual column name\n",
    "\n",
    "# Add a constant term for the intercept\n",
    "X = sm.add_constant(X)\n",
    "\n",
    "# Define the Tobit model class\n",
    "class Tobit(GenericLikelihoodModel):\n",
    "    def __init__(self, endog, exog, left=0, right=np.inf, **kwargs):\n",
    "        super(Tobit, self).__init__(endog, exog, **kwargs)\n",
    "        self.left, self.right = left, right\n",
    "    \n",
    "    def nloglikeobs(self, params):\n",
    "        exog = self.exog\n",
    "        endog = self.endog\n",
    "        left, right = self.left, self.right\n",
    "        \n",
    "        beta = params[:-1]\n",
    "        sigma = params[-1]\n",
    "        \n",
    "        XB = np.dot(exog, beta)\n",
    "        cens = (endog == left) * (left != -np.inf) + (endog == right) * (right != np.inf)\n",
    "        uncens = 1 - cens\n",
    "        \n",
    "        ll = np.zeros(len(endog))\n",
    "        \n",
    "        ll[cens] = np.log(\n",
    "            (1 / (np.sqrt(2 * np.pi) * sigma)) *\n",
    "            np.exp(-((endog[cens] - XB[cens]) ** 2) / (2 * sigma ** 2))\n",
    "        )\n",
    "        \n",
    "        ll[uncens] = np.log(\n",
    "            (1 / (np.sqrt(2 * np.pi) * sigma)) *\n",
    "            np.exp(-((endog[uncens] - XB[uncens]) ** 2) / (2 * sigma ** 2))\n",
    "        )\n",
    "        \n",
    "        return -ll\n",
    "\n",
    "    def fit(self, start_params=None, maxiter=10000, maxfun=5000, **kwargs):\n",
    "        if start_params is None:\n",
    "            start_params = np.append(np.zeros(self.exog.shape[1]), 1)\n",
    "        return super(Tobit, self).fit(start_params=start_params,\n",
    "                                     maxiter=maxiter, maxfun=maxfun, **kwargs)\n",
    "\n",
    "# Fit the Tobit model\n",
    "tobit_model = Tobit(y, X)\n",
    "tobit_results = tobit_model.fit()\n",
    "\n",
    "# Print the summary of the model\n",
    "print(tobit_results.summary())"
   ]
  },
  {
   "cell_type": "code",
   "execution_count": null,
   "id": "6a588dc8",
   "metadata": {},
   "outputs": [],
   "source": []
  }
 ],
 "metadata": {
  "kernelspec": {
   "display_name": "Python 3 (ipykernel)",
   "language": "python",
   "name": "python3"
  },
  "language_info": {
   "codemirror_mode": {
    "name": "ipython",
    "version": 3
   },
   "file_extension": ".py",
   "mimetype": "text/x-python",
   "name": "python",
   "nbconvert_exporter": "python",
   "pygments_lexer": "ipython3",
   "version": "3.11.5"
  }
 },
 "nbformat": 4,
 "nbformat_minor": 5
}
